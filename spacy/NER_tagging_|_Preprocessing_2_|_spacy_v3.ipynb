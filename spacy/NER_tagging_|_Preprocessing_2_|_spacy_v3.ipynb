{
  "nbformat": 4,
  "nbformat_minor": 0,
  "metadata": {
    "colab": {
      "name": "NER tagging | Preprocessing 2 | spacy v3.ipynb",
      "provenance": [],
      "collapsed_sections": [],
      "include_colab_link": true
    },
    "kernelspec": {
      "name": "python3",
      "display_name": "Python 3"
    }
  },
  "cells": [
    {
      "cell_type": "markdown",
      "metadata": {
        "id": "view-in-github",
        "colab_type": "text"
      },
      "source": [
        "<a href=\"https://colab.research.google.com/github/Ankur3107/Machine-Learning-Notes/blob/master/spacy/NER_tagging_%7C_Preprocessing_2_%7C_spacy_v3.ipynb\" target=\"_parent\"><img src=\"https://colab.research.google.com/assets/colab-badge.svg\" alt=\"Open In Colab\"/></a>"
      ]
    },
    {
      "cell_type": "code",
      "metadata": {
        "colab": {
          "base_uri": "https://localhost:8080/"
        },
        "id": "pfaLy4hFF7O7",
        "outputId": "f8e080e0-5125-4bb7-c2f1-68c4acd751f7"
      },
      "source": [
        "!pip install -q spacy --upgrade"
      ],
      "execution_count": null,
      "outputs": [
        {
          "output_type": "stream",
          "text": [
            "\u001b[K     |████████████████████████████████| 12.8MB 312kB/s \n",
            "\u001b[K     |████████████████████████████████| 460kB 30.3MB/s \n",
            "\u001b[K     |████████████████████████████████| 1.1MB 43.1MB/s \n",
            "\u001b[K     |████████████████████████████████| 9.1MB 34.6MB/s \n",
            "\u001b[K     |████████████████████████████████| 122kB 40.8MB/s \n",
            "\u001b[?25h  Building wheel for smart-open (setup.py) ... \u001b[?25l\u001b[?25hdone\n"
          ],
          "name": "stdout"
        }
      ]
    },
    {
      "cell_type": "code",
      "metadata": {
        "id": "Ndal-magGO6e",
        "colab": {
          "base_uri": "https://localhost:8080/"
        },
        "outputId": "ff9ce033-80ee-4717-e3b7-689698552815"
      },
      "source": [
        "!python -m spacy download en_core_web_sm"
      ],
      "execution_count": null,
      "outputs": [
        {
          "output_type": "stream",
          "text": [
            "2021-03-23 13:03:31.579265: I tensorflow/stream_executor/platform/default/dso_loader.cc:49] Successfully opened dynamic library libcudart.so.11.0\n",
            "Collecting en-core-web-sm==3.0.0\n",
            "\u001b[?25l  Downloading https://github.com/explosion/spacy-models/releases/download/en_core_web_sm-3.0.0/en_core_web_sm-3.0.0-py3-none-any.whl (13.7MB)\n",
            "\u001b[K     |████████████████████████████████| 13.7MB 315kB/s \n",
            "\u001b[?25hRequirement already satisfied: spacy<3.1.0,>=3.0.0 in /usr/local/lib/python3.7/dist-packages (from en-core-web-sm==3.0.0) (3.0.5)\n",
            "Requirement already satisfied: tqdm<5.0.0,>=4.38.0 in /usr/local/lib/python3.7/dist-packages (from spacy<3.1.0,>=3.0.0->en-core-web-sm==3.0.0) (4.41.1)\n",
            "Requirement already satisfied: murmurhash<1.1.0,>=0.28.0 in /usr/local/lib/python3.7/dist-packages (from spacy<3.1.0,>=3.0.0->en-core-web-sm==3.0.0) (1.0.5)\n",
            "Requirement already satisfied: pathy>=0.3.5 in /usr/local/lib/python3.7/dist-packages (from spacy<3.1.0,>=3.0.0->en-core-web-sm==3.0.0) (0.4.0)\n",
            "Requirement already satisfied: thinc<8.1.0,>=8.0.2 in /usr/local/lib/python3.7/dist-packages (from spacy<3.1.0,>=3.0.0->en-core-web-sm==3.0.0) (8.0.2)\n",
            "Requirement already satisfied: wasabi<1.1.0,>=0.8.1 in /usr/local/lib/python3.7/dist-packages (from spacy<3.1.0,>=3.0.0->en-core-web-sm==3.0.0) (0.8.2)\n",
            "Requirement already satisfied: setuptools in /usr/local/lib/python3.7/dist-packages (from spacy<3.1.0,>=3.0.0->en-core-web-sm==3.0.0) (54.1.2)\n",
            "Requirement already satisfied: cymem<2.1.0,>=2.0.2 in /usr/local/lib/python3.7/dist-packages (from spacy<3.1.0,>=3.0.0->en-core-web-sm==3.0.0) (2.0.5)\n",
            "Requirement already satisfied: pydantic<1.8.0,>=1.7.1 in /usr/local/lib/python3.7/dist-packages (from spacy<3.1.0,>=3.0.0->en-core-web-sm==3.0.0) (1.7.3)\n",
            "Requirement already satisfied: requests<3.0.0,>=2.13.0 in /usr/local/lib/python3.7/dist-packages (from spacy<3.1.0,>=3.0.0->en-core-web-sm==3.0.0) (2.23.0)\n",
            "Requirement already satisfied: typing-extensions<4.0.0.0,>=3.7.4; python_version < \"3.8\" in /usr/local/lib/python3.7/dist-packages (from spacy<3.1.0,>=3.0.0->en-core-web-sm==3.0.0) (3.7.4.3)\n",
            "Requirement already satisfied: numpy>=1.15.0 in /usr/local/lib/python3.7/dist-packages (from spacy<3.1.0,>=3.0.0->en-core-web-sm==3.0.0) (1.19.5)\n",
            "Requirement already satisfied: typer<0.4.0,>=0.3.0 in /usr/local/lib/python3.7/dist-packages (from spacy<3.1.0,>=3.0.0->en-core-web-sm==3.0.0) (0.3.2)\n",
            "Requirement already satisfied: importlib-metadata>=0.20; python_version < \"3.8\" in /usr/local/lib/python3.7/dist-packages (from spacy<3.1.0,>=3.0.0->en-core-web-sm==3.0.0) (3.7.2)\n",
            "Requirement already satisfied: catalogue<2.1.0,>=2.0.1 in /usr/local/lib/python3.7/dist-packages (from spacy<3.1.0,>=3.0.0->en-core-web-sm==3.0.0) (2.0.1)\n",
            "Requirement already satisfied: jinja2 in /usr/local/lib/python3.7/dist-packages (from spacy<3.1.0,>=3.0.0->en-core-web-sm==3.0.0) (2.11.3)\n",
            "Requirement already satisfied: preshed<3.1.0,>=3.0.2 in /usr/local/lib/python3.7/dist-packages (from spacy<3.1.0,>=3.0.0->en-core-web-sm==3.0.0) (3.0.5)\n",
            "Requirement already satisfied: blis<0.8.0,>=0.4.0 in /usr/local/lib/python3.7/dist-packages (from spacy<3.1.0,>=3.0.0->en-core-web-sm==3.0.0) (0.4.1)\n",
            "Requirement already satisfied: srsly<3.0.0,>=2.4.0 in /usr/local/lib/python3.7/dist-packages (from spacy<3.1.0,>=3.0.0->en-core-web-sm==3.0.0) (2.4.0)\n",
            "Requirement already satisfied: packaging>=20.0 in /usr/local/lib/python3.7/dist-packages (from spacy<3.1.0,>=3.0.0->en-core-web-sm==3.0.0) (20.9)\n",
            "Requirement already satisfied: spacy-legacy<3.1.0,>=3.0.0 in /usr/local/lib/python3.7/dist-packages (from spacy<3.1.0,>=3.0.0->en-core-web-sm==3.0.0) (3.0.1)\n",
            "Requirement already satisfied: smart-open<4.0.0,>=2.2.0 in /usr/local/lib/python3.7/dist-packages (from pathy>=0.3.5->spacy<3.1.0,>=3.0.0->en-core-web-sm==3.0.0) (3.0.0)\n",
            "Requirement already satisfied: idna<3,>=2.5 in /usr/local/lib/python3.7/dist-packages (from requests<3.0.0,>=2.13.0->spacy<3.1.0,>=3.0.0->en-core-web-sm==3.0.0) (2.10)\n",
            "Requirement already satisfied: certifi>=2017.4.17 in /usr/local/lib/python3.7/dist-packages (from requests<3.0.0,>=2.13.0->spacy<3.1.0,>=3.0.0->en-core-web-sm==3.0.0) (2020.12.5)\n",
            "Requirement already satisfied: urllib3!=1.25.0,!=1.25.1,<1.26,>=1.21.1 in /usr/local/lib/python3.7/dist-packages (from requests<3.0.0,>=2.13.0->spacy<3.1.0,>=3.0.0->en-core-web-sm==3.0.0) (1.24.3)\n",
            "Requirement already satisfied: chardet<4,>=3.0.2 in /usr/local/lib/python3.7/dist-packages (from requests<3.0.0,>=2.13.0->spacy<3.1.0,>=3.0.0->en-core-web-sm==3.0.0) (3.0.4)\n",
            "Requirement already satisfied: click<7.2.0,>=7.1.1 in /usr/local/lib/python3.7/dist-packages (from typer<0.4.0,>=0.3.0->spacy<3.1.0,>=3.0.0->en-core-web-sm==3.0.0) (7.1.2)\n",
            "Requirement already satisfied: zipp>=0.5 in /usr/local/lib/python3.7/dist-packages (from importlib-metadata>=0.20; python_version < \"3.8\"->spacy<3.1.0,>=3.0.0->en-core-web-sm==3.0.0) (3.4.1)\n",
            "Requirement already satisfied: MarkupSafe>=0.23 in /usr/local/lib/python3.7/dist-packages (from jinja2->spacy<3.1.0,>=3.0.0->en-core-web-sm==3.0.0) (1.1.1)\n",
            "Requirement already satisfied: pyparsing>=2.0.2 in /usr/local/lib/python3.7/dist-packages (from packaging>=20.0->spacy<3.1.0,>=3.0.0->en-core-web-sm==3.0.0) (2.4.7)\n",
            "Installing collected packages: en-core-web-sm\n",
            "  Found existing installation: en-core-web-sm 2.2.5\n",
            "    Uninstalling en-core-web-sm-2.2.5:\n",
            "      Successfully uninstalled en-core-web-sm-2.2.5\n",
            "Successfully installed en-core-web-sm-3.0.0\n",
            "\u001b[38;5;2m✔ Download and installation successful\u001b[0m\n",
            "You can now load the package via spacy.load('en_core_web_sm')\n"
          ],
          "name": "stdout"
        }
      ]
    },
    {
      "cell_type": "code",
      "metadata": {
        "id": "BMCiYjcVUuMz",
        "colab": {
          "base_uri": "https://localhost:8080/"
        },
        "outputId": "607a7f0c-ecda-49b9-d934-18fdf96e50d0"
      },
      "source": [
        "import pandas as pd\n",
        "import re\n",
        "import spacy\n",
        "from tqdm import tqdm\n",
        "from spacy.lang.en.stop_words import STOP_WORDS\n",
        "tqdm.pandas()"
      ],
      "execution_count": null,
      "outputs": [
        {
          "output_type": "stream",
          "text": [
            "/usr/local/lib/python3.7/dist-packages/tqdm/std.py:658: FutureWarning: The Panel class is removed from pandas. Accessing it from the top-level namespace will also be removed in the next version\n",
            "  from pandas import Panel\n"
          ],
          "name": "stderr"
        }
      ]
    },
    {
      "cell_type": "code",
      "metadata": {
        "id": "MvhCPMbVZ1sb"
      },
      "source": [
        "prepositions = [\n",
        "  \"a\",\n",
        "  \"abaft\",\n",
        "  \"aboard\",\n",
        "  \"about\",\n",
        "  \"above\",\n",
        "  \"absent\",\n",
        "  \"across\",\n",
        "  \"afore\",\n",
        "  \"after\",\n",
        "  \"against\",\n",
        "  \"along\",\n",
        "  \"alongside\",\n",
        "  \"amid\",\n",
        "  \"amidst\",\n",
        "  \"among\",\n",
        "  \"amongst\",\n",
        "  \"an\",\n",
        "  \"anenst\",\n",
        "  \"apropos\",\n",
        "  \"apud\",\n",
        "  \"around\",\n",
        "  \"as\",\n",
        "  \"aside\",\n",
        "  \"astride\",\n",
        "  \"at\",\n",
        "  \"athwart\",\n",
        "  \"atop\",\n",
        "  \"barring\",\n",
        "  \"before\",\n",
        "  \"behind\",\n",
        "  \"below\",\n",
        "  \"beneath\",\n",
        "  \"beside\",\n",
        "  \"besides\",\n",
        "  \"between\",\n",
        "  \"beyond\",\n",
        "  \"but\",\n",
        "  \"by\",\n",
        "  \"circa\",\n",
        "  \"concerning\",\n",
        "  \"despite\",\n",
        "  \"down\",\n",
        "  \"during\",\n",
        "  \"except\",\n",
        "  \"excluding\",\n",
        "  \"failing\",\n",
        "  \"following\",\n",
        "  \"for\",\n",
        "  \"forenenst\",\n",
        "  \"from\",\n",
        "  \"given\",\n",
        "  \"in\",\n",
        "  \"including\",\n",
        "  \"inside\",\n",
        "  \"into\",\n",
        "  \"lest\",\n",
        "  \"like\",\n",
        "  \"mid\",\n",
        "  \"midst\",\n",
        "  \"minus\",\n",
        "  \"modulo\",\n",
        "  \"near\",\n",
        "  \"next\",\n",
        "  \"notwithstanding\",\n",
        "  \"of\",\n",
        "  \"off\",\n",
        "  \"on\",\n",
        "  \"onto\",\n",
        "  \"opposite\",\n",
        "  \"out\",\n",
        "  \"outside\",\n",
        "  \"over\",\n",
        "  \"pace\",\n",
        "  \"past\",\n",
        "  \"per\",\n",
        "  \"plus\",\n",
        "  \"pro\",\n",
        "  \"qua\",\n",
        "  \"regarding\",\n",
        "  \"round\",\n",
        "  \"sans\",\n",
        "  \"save\",\n",
        "  \"since\",\n",
        "  \"than\",\n",
        "  \"through\",\n",
        "  \"throughout\",\n",
        "  \"till\",\n",
        "  \"times\",\n",
        "  \"to\",\n",
        "  \"toward\",\n",
        "  \"towards\",\n",
        "  \"under\",\n",
        "  \"underneath\",\n",
        "  \"unlike\",\n",
        "  \"until\",\n",
        "  \"unto\",\n",
        "  \"up\",\n",
        "  \"upon\",\n",
        "  \"versus\",\n",
        "  \"via\",\n",
        "  \"vice\",\n",
        "  \"with\",\n",
        "  \"within\",\n",
        "  \"without\",\n",
        "  \"worth\"\n",
        "]"
      ],
      "execution_count": null,
      "outputs": []
    },
    {
      "cell_type": "code",
      "metadata": {
        "id": "bjy8d8svZ_9V"
      },
      "source": [
        "stop_words = list(set(STOP_WORDS) - set(prepositions))"
      ],
      "execution_count": null,
      "outputs": []
    },
    {
      "cell_type": "code",
      "metadata": {
        "colab": {
          "base_uri": "https://localhost:8080/",
          "height": 204
        },
        "id": "Nip9acIzU6SW",
        "outputId": "c650a096-8780-4d56-c507-3309b5a15f5b"
      },
      "source": [
        "data = pd.read_csv(\"/content/drive/MyDrive/Temp_Work_nbs/tags_enriched.csv\", header=None)\n",
        "data.columns = [\"id\", \"tag\", \"count\", \"unknown_0\", \"unknown_1\"]\n",
        "data.head()"
      ],
      "execution_count": null,
      "outputs": [
        {
          "output_type": "execute_result",
          "data": {
            "text/html": [
              "<div>\n",
              "<style scoped>\n",
              "    .dataframe tbody tr th:only-of-type {\n",
              "        vertical-align: middle;\n",
              "    }\n",
              "\n",
              "    .dataframe tbody tr th {\n",
              "        vertical-align: top;\n",
              "    }\n",
              "\n",
              "    .dataframe thead th {\n",
              "        text-align: right;\n",
              "    }\n",
              "</style>\n",
              "<table border=\"1\" class=\"dataframe\">\n",
              "  <thead>\n",
              "    <tr style=\"text-align: right;\">\n",
              "      <th></th>\n",
              "      <th>id</th>\n",
              "      <th>tag</th>\n",
              "      <th>count</th>\n",
              "      <th>unknown_0</th>\n",
              "      <th>unknown_1</th>\n",
              "    </tr>\n",
              "  </thead>\n",
              "  <tbody>\n",
              "    <tr>\n",
              "      <th>0</th>\n",
              "      <td>2</td>\n",
              "      <td>abuse_of_power</td>\n",
              "      <td>6</td>\n",
              "      <td>1597881182</td>\n",
              "      <td>1</td>\n",
              "    </tr>\n",
              "    <tr>\n",
              "      <th>1</th>\n",
              "      <td>3</td>\n",
              "      <td>politics</td>\n",
              "      <td>53</td>\n",
              "      <td>1597881182</td>\n",
              "      <td>1</td>\n",
              "    </tr>\n",
              "    <tr>\n",
              "      <th>2</th>\n",
              "      <td>5</td>\n",
              "      <td>fascism</td>\n",
              "      <td>3</td>\n",
              "      <td>1597881182</td>\n",
              "      <td>1</td>\n",
              "    </tr>\n",
              "    <tr>\n",
              "      <th>3</th>\n",
              "      <td>25</td>\n",
              "      <td>blumhouse_productions</td>\n",
              "      <td>49</td>\n",
              "      <td>1597881185</td>\n",
              "      <td>3</td>\n",
              "    </tr>\n",
              "    <tr>\n",
              "      <th>4</th>\n",
              "      <td>26</td>\n",
              "      <td>dystopian</td>\n",
              "      <td>107</td>\n",
              "      <td>1597881185</td>\n",
              "      <td>3</td>\n",
              "    </tr>\n",
              "  </tbody>\n",
              "</table>\n",
              "</div>"
            ],
            "text/plain": [
              "   id                    tag  count   unknown_0  unknown_1\n",
              "0   2         abuse_of_power      6  1597881182          1\n",
              "1   3               politics     53  1597881182          1\n",
              "2   5                fascism      3  1597881182          1\n",
              "3  25  blumhouse_productions     49  1597881185          3\n",
              "4  26              dystopian    107  1597881185          3"
            ]
          },
          "metadata": {
            "tags": []
          },
          "execution_count": 6
        }
      ]
    },
    {
      "cell_type": "code",
      "metadata": {
        "colab": {
          "base_uri": "https://localhost:8080/",
          "height": 204
        },
        "id": "prUE0TzVVKDu",
        "outputId": "118eccda-cb8e-4b8d-853a-df9de8650f91"
      },
      "source": [
        "data['tag'] = data['tag'].astype(str)\n",
        "data['tag'] = data['tag'].apply(lambda x: x.lower())\n",
        "data['tokens'] = data['tag'].apply(lambda x: re.split(\"[_ ,-]\", x))\n",
        "data.head()"
      ],
      "execution_count": null,
      "outputs": [
        {
          "output_type": "execute_result",
          "data": {
            "text/html": [
              "<div>\n",
              "<style scoped>\n",
              "    .dataframe tbody tr th:only-of-type {\n",
              "        vertical-align: middle;\n",
              "    }\n",
              "\n",
              "    .dataframe tbody tr th {\n",
              "        vertical-align: top;\n",
              "    }\n",
              "\n",
              "    .dataframe thead th {\n",
              "        text-align: right;\n",
              "    }\n",
              "</style>\n",
              "<table border=\"1\" class=\"dataframe\">\n",
              "  <thead>\n",
              "    <tr style=\"text-align: right;\">\n",
              "      <th></th>\n",
              "      <th>id</th>\n",
              "      <th>tag</th>\n",
              "      <th>count</th>\n",
              "      <th>unknown_0</th>\n",
              "      <th>unknown_1</th>\n",
              "      <th>tokens</th>\n",
              "    </tr>\n",
              "  </thead>\n",
              "  <tbody>\n",
              "    <tr>\n",
              "      <th>0</th>\n",
              "      <td>2</td>\n",
              "      <td>abuse_of_power</td>\n",
              "      <td>6</td>\n",
              "      <td>1597881182</td>\n",
              "      <td>1</td>\n",
              "      <td>[abuse, of, power]</td>\n",
              "    </tr>\n",
              "    <tr>\n",
              "      <th>1</th>\n",
              "      <td>3</td>\n",
              "      <td>politics</td>\n",
              "      <td>53</td>\n",
              "      <td>1597881182</td>\n",
              "      <td>1</td>\n",
              "      <td>[politics]</td>\n",
              "    </tr>\n",
              "    <tr>\n",
              "      <th>2</th>\n",
              "      <td>5</td>\n",
              "      <td>fascism</td>\n",
              "      <td>3</td>\n",
              "      <td>1597881182</td>\n",
              "      <td>1</td>\n",
              "      <td>[fascism]</td>\n",
              "    </tr>\n",
              "    <tr>\n",
              "      <th>3</th>\n",
              "      <td>25</td>\n",
              "      <td>blumhouse_productions</td>\n",
              "      <td>49</td>\n",
              "      <td>1597881185</td>\n",
              "      <td>3</td>\n",
              "      <td>[blumhouse, productions]</td>\n",
              "    </tr>\n",
              "    <tr>\n",
              "      <th>4</th>\n",
              "      <td>26</td>\n",
              "      <td>dystopian</td>\n",
              "      <td>107</td>\n",
              "      <td>1597881185</td>\n",
              "      <td>3</td>\n",
              "      <td>[dystopian]</td>\n",
              "    </tr>\n",
              "  </tbody>\n",
              "</table>\n",
              "</div>"
            ],
            "text/plain": [
              "   id                    tag  ...  unknown_1                    tokens\n",
              "0   2         abuse_of_power  ...          1        [abuse, of, power]\n",
              "1   3               politics  ...          1                [politics]\n",
              "2   5                fascism  ...          1                 [fascism]\n",
              "3  25  blumhouse_productions  ...          3  [blumhouse, productions]\n",
              "4  26              dystopian  ...          3               [dystopian]\n",
              "\n",
              "[5 rows x 6 columns]"
            ]
          },
          "metadata": {
            "tags": []
          },
          "execution_count": 7
        }
      ]
    },
    {
      "cell_type": "code",
      "metadata": {
        "id": "aRjXv9LMaV8F"
      },
      "source": [
        "# remove films, flim, movie, movies\n",
        "year = [str(i) for i in list(range(1900, 2021, 1))]\n",
        "year_s = [str(i)+'s' for i in list(range(1900, 2021, 1))]\n",
        "remove_list = [\"films\", \"film\", \"movie\", \"movies\", \"american\", \"british\", \"indian\", \"shot\", \"set\", \"english\", \"hindi\", \"telugu\", \n",
        "                 \"kannada\", \"german\", \"african\", \"canadian\", \"tamil\",\"bengali\",\"brazilian\", \"nigerian\", \"marathi\", \"language\", ]+year_s+year\n",
        "def fun1(tokens):\n",
        "  tokens = [token for token in tokens if token not in remove_list]\n",
        "  return tokens\n",
        "\n",
        "def fun2(tokens):\n",
        "  tokens = [token for token in tokens if token not in stop_words]\n",
        "  return tokens"
      ],
      "execution_count": null,
      "outputs": []
    },
    {
      "cell_type": "code",
      "metadata": {
        "colab": {
          "base_uri": "https://localhost:8080/"
        },
        "id": "vXMEx1jHacV_",
        "outputId": "eacfc0f5-68fa-4de3-c4d9-2e585c110526"
      },
      "source": [
        "data['tokens'] = data['tokens'].apply(fun1)\n",
        "data['tokens'] = data['tokens'].apply(fun2)\n",
        "data['cleaned_tag'] = data['tokens'].apply(lambda x: \" \".join(x))\n",
        "data = data[data['cleaned_tag']!=\"\"]\n",
        "data = data.drop_duplicates(\"cleaned_tag\")\n",
        "data.shape"
      ],
      "execution_count": null,
      "outputs": [
        {
          "output_type": "execute_result",
          "data": {
            "text/plain": [
              "(6408, 7)"
            ]
          },
          "metadata": {
            "tags": []
          },
          "execution_count": 9
        }
      ]
    },
    {
      "cell_type": "code",
      "metadata": {
        "id": "TMQEUNlrVNdN"
      },
      "source": [
        "nlp = spacy.load('en_core_web_sm', disable=[\"ner\"])\n",
        "def do_lemmatization(text):\n",
        "  doc = nlp(text)\n",
        "  tokens = []\n",
        "  for t in doc:\n",
        "    tokens.append(t.lemma_)\n",
        "  return \" \".join(tokens)"
      ],
      "execution_count": null,
      "outputs": []
    },
    {
      "cell_type": "code",
      "metadata": {
        "colab": {
          "base_uri": "https://localhost:8080/"
        },
        "id": "Nje-_0BLWdZw",
        "outputId": "8b9c6bce-67ee-4db9-dd72-18fce358a136"
      },
      "source": [
        "data['tag_lemma'] = data['cleaned_tag'].progress_apply(do_lemmatization)"
      ],
      "execution_count": null,
      "outputs": [
        {
          "output_type": "stream",
          "text": [
            "100%|██████████| 6408/6408 [00:25<00:00, 256.28it/s]\n"
          ],
          "name": "stderr"
        }
      ]
    },
    {
      "cell_type": "code",
      "metadata": {
        "id": "8ig5BONGXbUv"
      },
      "source": [
        "data['tag_lemma_tokens'] = data['tag_lemma'].apply(lambda x: x.split(\" \"))"
      ],
      "execution_count": null,
      "outputs": []
    },
    {
      "cell_type": "code",
      "metadata": {
        "id": "hoZNzb1PW-Cg"
      },
      "source": [
        "patterns = []\n",
        "\n",
        "for lemma_tokens in data['tag_lemma_tokens'].values:\n",
        "  lemma_pattern = [{\"LEMMA\": lt} for lt in lemma_tokens]\n",
        "  patterns.append({\"label\":\"tag\", \"pattern\":lemma_pattern})"
      ],
      "execution_count": null,
      "outputs": []
    },
    {
      "cell_type": "code",
      "metadata": {
        "colab": {
          "base_uri": "https://localhost:8080/"
        },
        "id": "3xPZMv28XTET",
        "outputId": "2379296b-33cd-4dc4-8144-31c6678b426e"
      },
      "source": [
        "len(patterns)\n",
        "patterns[0:5]"
      ],
      "execution_count": null,
      "outputs": [
        {
          "output_type": "execute_result",
          "data": {
            "text/plain": [
              "[{'label': 'tag',\n",
              "  'pattern': [{'LEMMA': 'abuse'}, {'LEMMA': 'of'}, {'LEMMA': 'power'}]},\n",
              " {'label': 'tag', 'pattern': [{'LEMMA': 'politic'}]},\n",
              " {'label': 'tag', 'pattern': [{'LEMMA': 'fascism'}]},\n",
              " {'label': 'tag',\n",
              "  'pattern': [{'LEMMA': 'blumhouse'}, {'LEMMA': 'production'}]},\n",
              " {'label': 'tag', 'pattern': [{'LEMMA': 'dystopian'}]}]"
            ]
          },
          "metadata": {
            "tags": []
          },
          "execution_count": 14
        }
      ]
    },
    {
      "cell_type": "code",
      "metadata": {
        "id": "dBZ6HvLTXVXQ"
      },
      "source": [
        "from spacy.lang.en import English\n",
        "from spacy.pipeline import EntityRuler\n",
        "from spacy import displacy\n",
        "import spacy"
      ],
      "execution_count": null,
      "outputs": []
    },
    {
      "cell_type": "code",
      "metadata": {
        "id": "w3VLmhZSHDCj"
      },
      "source": [
        "from spacy import Language"
      ],
      "execution_count": null,
      "outputs": []
    },
    {
      "cell_type": "code",
      "metadata": {
        "id": "HcFCvYQYXm16",
        "colab": {
          "base_uri": "https://localhost:8080/"
        },
        "outputId": "35a93bc0-431d-4986-e0ef-1fb2c51daac1"
      },
      "source": [
        "nlp = spacy.load('en_core_web_sm', disable=[\"ner\"])\n",
        "entityruler = EntityRuler(nlp)\n",
        "\n",
        "#other_pipes = [p for p in nlp.pipe_names if p != \"tagger\" and p!=\"tokenizer\"]\n",
        "entityruler.add_patterns(patterns)\n",
        "\n",
        "@Language.component(\"entity_extraction_ruler\")\n",
        "def entity_ruler(doc):\n",
        "    return entityruler(doc)\n",
        "\n",
        "nlp.add_pipe(\"entity_extraction_ruler\")"
      ],
      "execution_count": null,
      "outputs": [
        {
          "output_type": "execute_result",
          "data": {
            "text/plain": [
              "<function __main__.entity_ruler>"
            ]
          },
          "metadata": {
            "tags": []
          },
          "execution_count": 22
        }
      ]
    },
    {
      "cell_type": "code",
      "metadata": {
        "id": "26A2ilx9nRmU"
      },
      "source": [
        "#save rules\n",
        "entityruler.to_disk(\"/content/drive/MyDrive/Temp_Work_nbs/entity_pattern/\")"
      ],
      "execution_count": null,
      "outputs": []
    },
    {
      "cell_type": "code",
      "metadata": {
        "colab": {
          "base_uri": "https://localhost:8080/"
        },
        "id": "dbNY_Q7goJgF",
        "outputId": "a961d200-f840-433d-f549-b802668722a4"
      },
      "source": [
        "# load rules\n",
        "nlp2 = spacy.load('en_core_web_sm', disable=[\"ner\"])\n",
        "entityruler = EntityRuler(nlp)\n",
        "entityruler.from_disk(\"/content/drive/MyDrive/Temp_Work_nbs/entity_pattern/\")\n",
        "\n",
        "@Language.component(\"entity_extraction_ruler\")\n",
        "def entity_ruler(doc):\n",
        "    return entityruler(doc)\n",
        "nlp2.add_pipe(\"entity_extraction_ruler\")"
      ],
      "execution_count": null,
      "outputs": [
        {
          "output_type": "execute_result",
          "data": {
            "text/plain": [
              "<function __main__.entity_ruler>"
            ]
          },
          "metadata": {
            "tags": []
          },
          "execution_count": 24
        }
      ]
    },
    {
      "cell_type": "markdown",
      "metadata": {
        "id": "ELIRzTJFjH0a"
      },
      "source": [
        "## *you need to call this function to get all tags using ner"
      ]
    },
    {
      "cell_type": "code",
      "metadata": {
        "id": "9KdwgN_xjFBL"
      },
      "source": [
        "STOP_WORDS_LIST = list(STOP_WORDS)\n",
        "def get_tags(nlp, text):\n",
        "  doc = nlp(text)\n",
        "  tags = []\n",
        "  for ent in list(doc.ents):\n",
        "    tokens = ent.text.split(\" \")\n",
        "    i_tag = \"\"\n",
        "    for token in tokens:\n",
        "      if token.lower() not in STOP_WORDS_LIST:\n",
        "        i_tag+=token+\" \"\n",
        "    if i_tag.strip()!=\"\":\n",
        "      tags.append(i_tag.strip())\n",
        "  return tags"
      ],
      "execution_count": null,
      "outputs": []
    },
    {
      "cell_type": "code",
      "metadata": {
        "colab": {
          "base_uri": "https://localhost:8080/"
        },
        "id": "PKm5XOZQXqF3",
        "outputId": "50b40753-4850-45a8-b66d-c7bea374feb1"
      },
      "source": [
        "text = \"\"\"\n",
        "Kashimira police\n",
        "\n",
        "Glenn Pereira\n",
        "\n",
        "2012 Accident: Ex-Red Chillies Entertainment employee Charu Khandal’s parents to get Rs 90 lakh as compensation The former Red Chillies employee had been left paralysed in the accident and passed away in 2017.\n",
        "\n",
        "Commissioner Sadanand Date\n",
        "\n",
        "A family’s ordeal\n",
        "\n",
        "Eight stations on Harbour line set to get new skywalks, interconnecting bridges Plan is to create more space as well as multiple entry points at stations whose passenger counts have risen rapidly in recent years.\n",
        "\n",
        "Kashimira police station\n",
        "\n",
        "state minorities commission\n",
        "\n",
        "A tour of Sewri-Nhava Sheva Trans Harbour Link 00:57\n",
        "\n",
        "The’s bungling has denied’s family the chance to give him a dignified burial. They found the 62-year-old dead a short distance from his home a day after he went missing and cremated him 22 days later, but continued to search for him for over a month without bothering to check their records.Pereira headed out of his Mira Road home to meet officials of a cooperative credit society he had invested with and which is embroiled in a Rs 21.45-crore fraud case on September 20 but didn’t return. “My father always kept my mother informed about his whereabouts whenever he stepped out of home. But that day, there was no word from him,” said Eureka, Pereira’s daughter. When there was no sign of him for hours, Pereira’s wife Rita alerted Eureka and her son, who live separately.The family combed the elderly man’s frequent haunts and tried to retrace the steps he could have taken that day, but the mystery over his disappearance deepened.After a days-long search, they approached the Kashimira police on October 1 and lodged a missing person complaint. But, according to the family, the police sat on their hands until they sought the police commissioner’s intervention last week.They claimed that they had to keep chasing the police to get them to investigate the case. “My mother and my brother visited every hospital they could in search of my father. The investigator, Suresh Shinde, used to ask us if we had any leads! It was only after October 15 did he even start working on the case,” said Eureka, adding that it was only after the family’s insistence that Shinde even questioned officials of the credit society.With the investigation making no headway in over two months, the family sought Mira-Bhayandar-Vasai-Virar Police’s intervention on December 4. Date immediately assigned the case to a new officer, who told the family the next day that Pereira had died on September 21.The police station’s records show that he was found unconscious near his home and declared dead at a hospital that same day. “They showed his photograph to us, and told us that they had filed him away as an unidentified person,” said Eureka. “They claimed they didn’t know it was the same person as my father.” Since Pereira’s body lay unclaimed for days, the police cremated him on October 13. “We have asked for his post-mortem examination report,” said the daughter.The police’s biggest lapse was their failure to check their records of unidentified persons when the family approached them to file a complaint. “Instead of checking the files at his own police station, the officer sent us on a wild goose chase. The police have apologised but how does that make things right? We could have given my father a burial had we got his body,” said an infuriated Eureka.Sanjay Hajare, senior inspector of, said action will be taken against Shinde if he is found out to have been negligent. But, he lay some of the blame with the family as well. “They came very late to lodge the complaint and gave us an old photograph which bore no resemblance with the body that was found. They also told us that Pereira had a habit of staying away from home often. It’s possible that at that point, it was assumed that he would eventually return,” said Hajare.Abraham Mathai, former vice chairman of the, said this case exemplifies the policing system’s shortcomings. “Even this revelation that Pereira had been quietly cremated wouldn’t have emerged had the family not met the Commissioner Sadanand Date. The case would have been relegated to the files of unsolved missing persons.”\n",
        "\"\"\"\n",
        "get_tags(nlp2, text)"
      ],
      "execution_count": null,
      "outputs": [
        {
          "output_type": "execute_result",
          "data": {
            "text/plain": [
              "['police',\n",
              " 'Accident',\n",
              " 'parents',\n",
              " 'accident',\n",
              " 'family',\n",
              " 'bridges',\n",
              " 'space',\n",
              " 'risen',\n",
              " 'police station',\n",
              " 'tour',\n",
              " 'family',\n",
              " 'home',\n",
              " 'missing',\n",
              " 'search',\n",
              " 'headed',\n",
              " 'home',\n",
              " 'meet',\n",
              " 'society',\n",
              " 'fraud',\n",
              " 'father',\n",
              " 'mother',\n",
              " 'home',\n",
              " 'daughter',\n",
              " 'sign',\n",
              " 'wife',\n",
              " 'live',\n",
              " 'family',\n",
              " 'elderly',\n",
              " 'man',\n",
              " 'haunts',\n",
              " 'mystery',\n",
              " 'disappearance',\n",
              " 'long',\n",
              " 'search',\n",
              " 'police',\n",
              " 'missing person',\n",
              " 'family',\n",
              " 'police',\n",
              " 'police commissioner',\n",
              " 'chasing',\n",
              " 'police',\n",
              " 'mother',\n",
              " 'brother',\n",
              " 'visited',\n",
              " 'hospital',\n",
              " 'search',\n",
              " 'father',\n",
              " 'working',\n",
              " 'family',\n",
              " 'society',\n",
              " 'investigation',\n",
              " 'making',\n",
              " 'family',\n",
              " 'Date',\n",
              " 'officer',\n",
              " 'family',\n",
              " 'died',\n",
              " 'police station',\n",
              " 'home',\n",
              " 'hospital',\n",
              " 'photograph',\n",
              " 'father',\n",
              " 'lay',\n",
              " 'police',\n",
              " 'daughter',\n",
              " 'police',\n",
              " 'family',\n",
              " 'police station',\n",
              " 'officer',\n",
              " 'chase',\n",
              " 'police',\n",
              " 'father',\n",
              " 'inspector',\n",
              " 'lay',\n",
              " 'family',\n",
              " 'photograph',\n",
              " 'bore',\n",
              " 'home',\n",
              " 'revelation',\n",
              " 'family',\n",
              " 'met']"
            ]
          },
          "metadata": {
            "tags": []
          },
          "execution_count": 26
        }
      ]
    },
    {
      "cell_type": "code",
      "metadata": {
        "colab": {
          "base_uri": "https://localhost:8080/",
          "height": 1000
        },
        "id": "x6gnZD8bXsFI",
        "outputId": "b8b0eac7-64e9-4dc5-be39-9a6bc59cb0c4"
      },
      "source": [
        "doc = nlp(text)\n",
        "displacy.render(doc, jupyter = True, style = \"ent\")"
      ],
      "execution_count": null,
      "outputs": [
        {
          "output_type": "display_data",
          "data": {
            "text/html": [
              "<span class=\"tex2jax_ignore\"><div class=\"entities\" style=\"line-height: 2.5; direction: ltr\"></br>Kashimira \n",
              "<mark class=\"entity\" style=\"background: #ddd; padding: 0.45em 0.6em; margin: 0 0.25em; line-height: 1; border-radius: 0.35em;\">\n",
              "    police\n",
              "    <span style=\"font-size: 0.8em; font-weight: bold; line-height: 1; border-radius: 0.35em; vertical-align: middle; margin-left: 0.5rem\">tag</span>\n",
              "</mark>\n",
              "</br></br>Glenn Pereira</br></br>2012 \n",
              "<mark class=\"entity\" style=\"background: #ddd; padding: 0.45em 0.6em; margin: 0 0.25em; line-height: 1; border-radius: 0.35em;\">\n",
              "    Accident\n",
              "    <span style=\"font-size: 0.8em; font-weight: bold; line-height: 1; border-radius: 0.35em; vertical-align: middle; margin-left: 0.5rem\">tag</span>\n",
              "</mark>\n",
              ": Ex-Red Chillies Entertainment employee Charu Khandal’s \n",
              "<mark class=\"entity\" style=\"background: #ddd; padding: 0.45em 0.6em; margin: 0 0.25em; line-height: 1; border-radius: 0.35em;\">\n",
              "    parents\n",
              "    <span style=\"font-size: 0.8em; font-weight: bold; line-height: 1; border-radius: 0.35em; vertical-align: middle; margin-left: 0.5rem\">tag</span>\n",
              "</mark>\n",
              " to get Rs 90 lakh as compensation The former Red Chillies employee had been left paralysed in the \n",
              "<mark class=\"entity\" style=\"background: #ddd; padding: 0.45em 0.6em; margin: 0 0.25em; line-height: 1; border-radius: 0.35em;\">\n",
              "    accident\n",
              "    <span style=\"font-size: 0.8em; font-weight: bold; line-height: 1; border-radius: 0.35em; vertical-align: middle; margin-left: 0.5rem\">tag</span>\n",
              "</mark>\n",
              " and passed away in 2017.</br></br>Commissioner Sadanand Date</br></br>A \n",
              "<mark class=\"entity\" style=\"background: #ddd; padding: 0.45em 0.6em; margin: 0 0.25em; line-height: 1; border-radius: 0.35em;\">\n",
              "    family\n",
              "    <span style=\"font-size: 0.8em; font-weight: bold; line-height: 1; border-radius: 0.35em; vertical-align: middle; margin-left: 0.5rem\">tag</span>\n",
              "</mark>\n",
              "’s ordeal</br></br>Eight stations on Harbour line set to get new skywalks, interconnecting \n",
              "<mark class=\"entity\" style=\"background: #ddd; padding: 0.45em 0.6em; margin: 0 0.25em; line-height: 1; border-radius: 0.35em;\">\n",
              "    bridges\n",
              "    <span style=\"font-size: 0.8em; font-weight: bold; line-height: 1; border-radius: 0.35em; vertical-align: middle; margin-left: 0.5rem\">tag</span>\n",
              "</mark>\n",
              " Plan is to create more \n",
              "<mark class=\"entity\" style=\"background: #ddd; padding: 0.45em 0.6em; margin: 0 0.25em; line-height: 1; border-radius: 0.35em;\">\n",
              "    space\n",
              "    <span style=\"font-size: 0.8em; font-weight: bold; line-height: 1; border-radius: 0.35em; vertical-align: middle; margin-left: 0.5rem\">tag</span>\n",
              "</mark>\n",
              " as well as multiple entry points at stations whose passenger counts have \n",
              "<mark class=\"entity\" style=\"background: #ddd; padding: 0.45em 0.6em; margin: 0 0.25em; line-height: 1; border-radius: 0.35em;\">\n",
              "    risen\n",
              "    <span style=\"font-size: 0.8em; font-weight: bold; line-height: 1; border-radius: 0.35em; vertical-align: middle; margin-left: 0.5rem\">tag</span>\n",
              "</mark>\n",
              " rapidly in recent years.</br></br>Kashimira \n",
              "<mark class=\"entity\" style=\"background: #ddd; padding: 0.45em 0.6em; margin: 0 0.25em; line-height: 1; border-radius: 0.35em;\">\n",
              "    police station\n",
              "    <span style=\"font-size: 0.8em; font-weight: bold; line-height: 1; border-radius: 0.35em; vertical-align: middle; margin-left: 0.5rem\">tag</span>\n",
              "</mark>\n",
              "</br></br>state minorities commission</br></br>A \n",
              "<mark class=\"entity\" style=\"background: #ddd; padding: 0.45em 0.6em; margin: 0 0.25em; line-height: 1; border-radius: 0.35em;\">\n",
              "    tour\n",
              "    <span style=\"font-size: 0.8em; font-weight: bold; line-height: 1; border-radius: 0.35em; vertical-align: middle; margin-left: 0.5rem\">tag</span>\n",
              "</mark>\n",
              " of Sewri-Nhava Sheva Trans Harbour Link 00:57</br></br>The’s bungling has denied’s \n",
              "<mark class=\"entity\" style=\"background: #ddd; padding: 0.45em 0.6em; margin: 0 0.25em; line-height: 1; border-radius: 0.35em;\">\n",
              "    family\n",
              "    <span style=\"font-size: 0.8em; font-weight: bold; line-height: 1; border-radius: 0.35em; vertical-align: middle; margin-left: 0.5rem\">tag</span>\n",
              "</mark>\n",
              " the chance to give him a dignified burial. They found the 62-year-old dead a short distance from his \n",
              "<mark class=\"entity\" style=\"background: #ddd; padding: 0.45em 0.6em; margin: 0 0.25em; line-height: 1; border-radius: 0.35em;\">\n",
              "    home\n",
              "    <span style=\"font-size: 0.8em; font-weight: bold; line-height: 1; border-radius: 0.35em; vertical-align: middle; margin-left: 0.5rem\">tag</span>\n",
              "</mark>\n",
              " a day after he went \n",
              "<mark class=\"entity\" style=\"background: #ddd; padding: 0.45em 0.6em; margin: 0 0.25em; line-height: 1; border-radius: 0.35em;\">\n",
              "    missing\n",
              "    <span style=\"font-size: 0.8em; font-weight: bold; line-height: 1; border-radius: 0.35em; vertical-align: middle; margin-left: 0.5rem\">tag</span>\n",
              "</mark>\n",
              " and cremated him 22 days later, but continued to \n",
              "<mark class=\"entity\" style=\"background: #ddd; padding: 0.45em 0.6em; margin: 0 0.25em; line-height: 1; border-radius: 0.35em;\">\n",
              "    search\n",
              "    <span style=\"font-size: 0.8em; font-weight: bold; line-height: 1; border-radius: 0.35em; vertical-align: middle; margin-left: 0.5rem\">tag</span>\n",
              "</mark>\n",
              " for him for over a month without bothering to check their records.Pereira \n",
              "<mark class=\"entity\" style=\"background: #ddd; padding: 0.45em 0.6em; margin: 0 0.25em; line-height: 1; border-radius: 0.35em;\">\n",
              "    headed\n",
              "    <span style=\"font-size: 0.8em; font-weight: bold; line-height: 1; border-radius: 0.35em; vertical-align: middle; margin-left: 0.5rem\">tag</span>\n",
              "</mark>\n",
              " out of his Mira Road \n",
              "<mark class=\"entity\" style=\"background: #ddd; padding: 0.45em 0.6em; margin: 0 0.25em; line-height: 1; border-radius: 0.35em;\">\n",
              "    home\n",
              "    <span style=\"font-size: 0.8em; font-weight: bold; line-height: 1; border-radius: 0.35em; vertical-align: middle; margin-left: 0.5rem\">tag</span>\n",
              "</mark>\n",
              " to \n",
              "<mark class=\"entity\" style=\"background: #ddd; padding: 0.45em 0.6em; margin: 0 0.25em; line-height: 1; border-radius: 0.35em;\">\n",
              "    meet\n",
              "    <span style=\"font-size: 0.8em; font-weight: bold; line-height: 1; border-radius: 0.35em; vertical-align: middle; margin-left: 0.5rem\">tag</span>\n",
              "</mark>\n",
              " officials of a cooperative credit \n",
              "<mark class=\"entity\" style=\"background: #ddd; padding: 0.45em 0.6em; margin: 0 0.25em; line-height: 1; border-radius: 0.35em;\">\n",
              "    society\n",
              "    <span style=\"font-size: 0.8em; font-weight: bold; line-height: 1; border-radius: 0.35em; vertical-align: middle; margin-left: 0.5rem\">tag</span>\n",
              "</mark>\n",
              " he had invested with and which is embroiled \n",
              "<mark class=\"entity\" style=\"background: #ddd; padding: 0.45em 0.6em; margin: 0 0.25em; line-height: 1; border-radius: 0.35em;\">\n",
              "    in a\n",
              "    <span style=\"font-size: 0.8em; font-weight: bold; line-height: 1; border-radius: 0.35em; vertical-align: middle; margin-left: 0.5rem\">tag</span>\n",
              "</mark>\n",
              " Rs 21.45-crore \n",
              "<mark class=\"entity\" style=\"background: #ddd; padding: 0.45em 0.6em; margin: 0 0.25em; line-height: 1; border-radius: 0.35em;\">\n",
              "    fraud\n",
              "    <span style=\"font-size: 0.8em; font-weight: bold; line-height: 1; border-radius: 0.35em; vertical-align: middle; margin-left: 0.5rem\">tag</span>\n",
              "</mark>\n",
              " case on September 20 but didn’t return. “My \n",
              "<mark class=\"entity\" style=\"background: #ddd; padding: 0.45em 0.6em; margin: 0 0.25em; line-height: 1; border-radius: 0.35em;\">\n",
              "    father\n",
              "    <span style=\"font-size: 0.8em; font-weight: bold; line-height: 1; border-radius: 0.35em; vertical-align: middle; margin-left: 0.5rem\">tag</span>\n",
              "</mark>\n",
              " always kept my \n",
              "<mark class=\"entity\" style=\"background: #ddd; padding: 0.45em 0.6em; margin: 0 0.25em; line-height: 1; border-radius: 0.35em;\">\n",
              "    mother\n",
              "    <span style=\"font-size: 0.8em; font-weight: bold; line-height: 1; border-radius: 0.35em; vertical-align: middle; margin-left: 0.5rem\">tag</span>\n",
              "</mark>\n",
              " informed about his whereabouts whenever he stepped out of \n",
              "<mark class=\"entity\" style=\"background: #ddd; padding: 0.45em 0.6em; margin: 0 0.25em; line-height: 1; border-radius: 0.35em;\">\n",
              "    home\n",
              "    <span style=\"font-size: 0.8em; font-weight: bold; line-height: 1; border-radius: 0.35em; vertical-align: middle; margin-left: 0.5rem\">tag</span>\n",
              "</mark>\n",
              ". But that day, there was no word from him,” said Eureka, Pereira’s \n",
              "<mark class=\"entity\" style=\"background: #ddd; padding: 0.45em 0.6em; margin: 0 0.25em; line-height: 1; border-radius: 0.35em;\">\n",
              "    daughter\n",
              "    <span style=\"font-size: 0.8em; font-weight: bold; line-height: 1; border-radius: 0.35em; vertical-align: middle; margin-left: 0.5rem\">tag</span>\n",
              "</mark>\n",
              ". When there was no \n",
              "<mark class=\"entity\" style=\"background: #ddd; padding: 0.45em 0.6em; margin: 0 0.25em; line-height: 1; border-radius: 0.35em;\">\n",
              "    sign\n",
              "    <span style=\"font-size: 0.8em; font-weight: bold; line-height: 1; border-radius: 0.35em; vertical-align: middle; margin-left: 0.5rem\">tag</span>\n",
              "</mark>\n",
              " of him for hours, Pereira’s \n",
              "<mark class=\"entity\" style=\"background: #ddd; padding: 0.45em 0.6em; margin: 0 0.25em; line-height: 1; border-radius: 0.35em;\">\n",
              "    wife\n",
              "    <span style=\"font-size: 0.8em; font-weight: bold; line-height: 1; border-radius: 0.35em; vertical-align: middle; margin-left: 0.5rem\">tag</span>\n",
              "</mark>\n",
              " Rita alerted Eureka and her son, who \n",
              "<mark class=\"entity\" style=\"background: #ddd; padding: 0.45em 0.6em; margin: 0 0.25em; line-height: 1; border-radius: 0.35em;\">\n",
              "    live\n",
              "    <span style=\"font-size: 0.8em; font-weight: bold; line-height: 1; border-radius: 0.35em; vertical-align: middle; margin-left: 0.5rem\">tag</span>\n",
              "</mark>\n",
              " separately.The \n",
              "<mark class=\"entity\" style=\"background: #ddd; padding: 0.45em 0.6em; margin: 0 0.25em; line-height: 1; border-radius: 0.35em;\">\n",
              "    family\n",
              "    <span style=\"font-size: 0.8em; font-weight: bold; line-height: 1; border-radius: 0.35em; vertical-align: middle; margin-left: 0.5rem\">tag</span>\n",
              "</mark>\n",
              " combed the \n",
              "<mark class=\"entity\" style=\"background: #ddd; padding: 0.45em 0.6em; margin: 0 0.25em; line-height: 1; border-radius: 0.35em;\">\n",
              "    elderly\n",
              "    <span style=\"font-size: 0.8em; font-weight: bold; line-height: 1; border-radius: 0.35em; vertical-align: middle; margin-left: 0.5rem\">tag</span>\n",
              "</mark>\n",
              " \n",
              "<mark class=\"entity\" style=\"background: #ddd; padding: 0.45em 0.6em; margin: 0 0.25em; line-height: 1; border-radius: 0.35em;\">\n",
              "    man\n",
              "    <span style=\"font-size: 0.8em; font-weight: bold; line-height: 1; border-radius: 0.35em; vertical-align: middle; margin-left: 0.5rem\">tag</span>\n",
              "</mark>\n",
              "’s frequent \n",
              "<mark class=\"entity\" style=\"background: #ddd; padding: 0.45em 0.6em; margin: 0 0.25em; line-height: 1; border-radius: 0.35em;\">\n",
              "    haunts\n",
              "    <span style=\"font-size: 0.8em; font-weight: bold; line-height: 1; border-radius: 0.35em; vertical-align: middle; margin-left: 0.5rem\">tag</span>\n",
              "</mark>\n",
              " and tried to retrace the steps he could have taken that day, but the \n",
              "<mark class=\"entity\" style=\"background: #ddd; padding: 0.45em 0.6em; margin: 0 0.25em; line-height: 1; border-radius: 0.35em;\">\n",
              "    mystery\n",
              "    <span style=\"font-size: 0.8em; font-weight: bold; line-height: 1; border-radius: 0.35em; vertical-align: middle; margin-left: 0.5rem\">tag</span>\n",
              "</mark>\n",
              " over his \n",
              "<mark class=\"entity\" style=\"background: #ddd; padding: 0.45em 0.6em; margin: 0 0.25em; line-height: 1; border-radius: 0.35em;\">\n",
              "    disappearance\n",
              "    <span style=\"font-size: 0.8em; font-weight: bold; line-height: 1; border-radius: 0.35em; vertical-align: middle; margin-left: 0.5rem\">tag</span>\n",
              "</mark>\n",
              " deepened.After a days-\n",
              "<mark class=\"entity\" style=\"background: #ddd; padding: 0.45em 0.6em; margin: 0 0.25em; line-height: 1; border-radius: 0.35em;\">\n",
              "    long\n",
              "    <span style=\"font-size: 0.8em; font-weight: bold; line-height: 1; border-radius: 0.35em; vertical-align: middle; margin-left: 0.5rem\">tag</span>\n",
              "</mark>\n",
              " \n",
              "<mark class=\"entity\" style=\"background: #ddd; padding: 0.45em 0.6em; margin: 0 0.25em; line-height: 1; border-radius: 0.35em;\">\n",
              "    search\n",
              "    <span style=\"font-size: 0.8em; font-weight: bold; line-height: 1; border-radius: 0.35em; vertical-align: middle; margin-left: 0.5rem\">tag</span>\n",
              "</mark>\n",
              ", they approached the Kashimira \n",
              "<mark class=\"entity\" style=\"background: #ddd; padding: 0.45em 0.6em; margin: 0 0.25em; line-height: 1; border-radius: 0.35em;\">\n",
              "    police\n",
              "    <span style=\"font-size: 0.8em; font-weight: bold; line-height: 1; border-radius: 0.35em; vertical-align: middle; margin-left: 0.5rem\">tag</span>\n",
              "</mark>\n",
              " on October 1 and lodged a \n",
              "<mark class=\"entity\" style=\"background: #ddd; padding: 0.45em 0.6em; margin: 0 0.25em; line-height: 1; border-radius: 0.35em;\">\n",
              "    missing person\n",
              "    <span style=\"font-size: 0.8em; font-weight: bold; line-height: 1; border-radius: 0.35em; vertical-align: middle; margin-left: 0.5rem\">tag</span>\n",
              "</mark>\n",
              " complaint. But, according to the \n",
              "<mark class=\"entity\" style=\"background: #ddd; padding: 0.45em 0.6em; margin: 0 0.25em; line-height: 1; border-radius: 0.35em;\">\n",
              "    family\n",
              "    <span style=\"font-size: 0.8em; font-weight: bold; line-height: 1; border-radius: 0.35em; vertical-align: middle; margin-left: 0.5rem\">tag</span>\n",
              "</mark>\n",
              ", the \n",
              "<mark class=\"entity\" style=\"background: #ddd; padding: 0.45em 0.6em; margin: 0 0.25em; line-height: 1; border-radius: 0.35em;\">\n",
              "    police\n",
              "    <span style=\"font-size: 0.8em; font-weight: bold; line-height: 1; border-radius: 0.35em; vertical-align: middle; margin-left: 0.5rem\">tag</span>\n",
              "</mark>\n",
              " sat on their hands until they sought the \n",
              "<mark class=\"entity\" style=\"background: #ddd; padding: 0.45em 0.6em; margin: 0 0.25em; line-height: 1; border-radius: 0.35em;\">\n",
              "    police commissioner\n",
              "    <span style=\"font-size: 0.8em; font-weight: bold; line-height: 1; border-radius: 0.35em; vertical-align: middle; margin-left: 0.5rem\">tag</span>\n",
              "</mark>\n",
              "’s intervention last week.They claimed that they had to keep \n",
              "<mark class=\"entity\" style=\"background: #ddd; padding: 0.45em 0.6em; margin: 0 0.25em; line-height: 1; border-radius: 0.35em;\">\n",
              "    chasing\n",
              "    <span style=\"font-size: 0.8em; font-weight: bold; line-height: 1; border-radius: 0.35em; vertical-align: middle; margin-left: 0.5rem\">tag</span>\n",
              "</mark>\n",
              " the \n",
              "<mark class=\"entity\" style=\"background: #ddd; padding: 0.45em 0.6em; margin: 0 0.25em; line-height: 1; border-radius: 0.35em;\">\n",
              "    police\n",
              "    <span style=\"font-size: 0.8em; font-weight: bold; line-height: 1; border-radius: 0.35em; vertical-align: middle; margin-left: 0.5rem\">tag</span>\n",
              "</mark>\n",
              " to get them to investigate the case. “My \n",
              "<mark class=\"entity\" style=\"background: #ddd; padding: 0.45em 0.6em; margin: 0 0.25em; line-height: 1; border-radius: 0.35em;\">\n",
              "    mother\n",
              "    <span style=\"font-size: 0.8em; font-weight: bold; line-height: 1; border-radius: 0.35em; vertical-align: middle; margin-left: 0.5rem\">tag</span>\n",
              "</mark>\n",
              " and my \n",
              "<mark class=\"entity\" style=\"background: #ddd; padding: 0.45em 0.6em; margin: 0 0.25em; line-height: 1; border-radius: 0.35em;\">\n",
              "    brother\n",
              "    <span style=\"font-size: 0.8em; font-weight: bold; line-height: 1; border-radius: 0.35em; vertical-align: middle; margin-left: 0.5rem\">tag</span>\n",
              "</mark>\n",
              " \n",
              "<mark class=\"entity\" style=\"background: #ddd; padding: 0.45em 0.6em; margin: 0 0.25em; line-height: 1; border-radius: 0.35em;\">\n",
              "    visited\n",
              "    <span style=\"font-size: 0.8em; font-weight: bold; line-height: 1; border-radius: 0.35em; vertical-align: middle; margin-left: 0.5rem\">tag</span>\n",
              "</mark>\n",
              " every \n",
              "<mark class=\"entity\" style=\"background: #ddd; padding: 0.45em 0.6em; margin: 0 0.25em; line-height: 1; border-radius: 0.35em;\">\n",
              "    hospital\n",
              "    <span style=\"font-size: 0.8em; font-weight: bold; line-height: 1; border-radius: 0.35em; vertical-align: middle; margin-left: 0.5rem\">tag</span>\n",
              "</mark>\n",
              " they could in \n",
              "<mark class=\"entity\" style=\"background: #ddd; padding: 0.45em 0.6em; margin: 0 0.25em; line-height: 1; border-radius: 0.35em;\">\n",
              "    search\n",
              "    <span style=\"font-size: 0.8em; font-weight: bold; line-height: 1; border-radius: 0.35em; vertical-align: middle; margin-left: 0.5rem\">tag</span>\n",
              "</mark>\n",
              " of my \n",
              "<mark class=\"entity\" style=\"background: #ddd; padding: 0.45em 0.6em; margin: 0 0.25em; line-height: 1; border-radius: 0.35em;\">\n",
              "    father\n",
              "    <span style=\"font-size: 0.8em; font-weight: bold; line-height: 1; border-radius: 0.35em; vertical-align: middle; margin-left: 0.5rem\">tag</span>\n",
              "</mark>\n",
              ". The investigator, Suresh Shinde, used to ask us if we had any leads! It was only after October 15 did he even start \n",
              "<mark class=\"entity\" style=\"background: #ddd; padding: 0.45em 0.6em; margin: 0 0.25em; line-height: 1; border-radius: 0.35em;\">\n",
              "    working\n",
              "    <span style=\"font-size: 0.8em; font-weight: bold; line-height: 1; border-radius: 0.35em; vertical-align: middle; margin-left: 0.5rem\">tag</span>\n",
              "</mark>\n",
              " on the case,” said Eureka, adding that it was only after the \n",
              "<mark class=\"entity\" style=\"background: #ddd; padding: 0.45em 0.6em; margin: 0 0.25em; line-height: 1; border-radius: 0.35em;\">\n",
              "    family\n",
              "    <span style=\"font-size: 0.8em; font-weight: bold; line-height: 1; border-radius: 0.35em; vertical-align: middle; margin-left: 0.5rem\">tag</span>\n",
              "</mark>\n",
              "’s insistence that Shinde even questioned officials of the credit \n",
              "<mark class=\"entity\" style=\"background: #ddd; padding: 0.45em 0.6em; margin: 0 0.25em; line-height: 1; border-radius: 0.35em;\">\n",
              "    society\n",
              "    <span style=\"font-size: 0.8em; font-weight: bold; line-height: 1; border-radius: 0.35em; vertical-align: middle; margin-left: 0.5rem\">tag</span>\n",
              "</mark>\n",
              ".With the \n",
              "<mark class=\"entity\" style=\"background: #ddd; padding: 0.45em 0.6em; margin: 0 0.25em; line-height: 1; border-radius: 0.35em;\">\n",
              "    investigation\n",
              "    <span style=\"font-size: 0.8em; font-weight: bold; line-height: 1; border-radius: 0.35em; vertical-align: middle; margin-left: 0.5rem\">tag</span>\n",
              "</mark>\n",
              " \n",
              "<mark class=\"entity\" style=\"background: #ddd; padding: 0.45em 0.6em; margin: 0 0.25em; line-height: 1; border-radius: 0.35em;\">\n",
              "    making\n",
              "    <span style=\"font-size: 0.8em; font-weight: bold; line-height: 1; border-radius: 0.35em; vertical-align: middle; margin-left: 0.5rem\">tag</span>\n",
              "</mark>\n",
              " no headway in over two months, the \n",
              "<mark class=\"entity\" style=\"background: #ddd; padding: 0.45em 0.6em; margin: 0 0.25em; line-height: 1; border-radius: 0.35em;\">\n",
              "    family\n",
              "    <span style=\"font-size: 0.8em; font-weight: bold; line-height: 1; border-radius: 0.35em; vertical-align: middle; margin-left: 0.5rem\">tag</span>\n",
              "</mark>\n",
              " sought Mira-Bhayandar-Vasai-Virar Police’s intervention on December 4. \n",
              "<mark class=\"entity\" style=\"background: #ddd; padding: 0.45em 0.6em; margin: 0 0.25em; line-height: 1; border-radius: 0.35em;\">\n",
              "    Date\n",
              "    <span style=\"font-size: 0.8em; font-weight: bold; line-height: 1; border-radius: 0.35em; vertical-align: middle; margin-left: 0.5rem\">tag</span>\n",
              "</mark>\n",
              " immediately assigned the case to a new \n",
              "<mark class=\"entity\" style=\"background: #ddd; padding: 0.45em 0.6em; margin: 0 0.25em; line-height: 1; border-radius: 0.35em;\">\n",
              "    officer\n",
              "    <span style=\"font-size: 0.8em; font-weight: bold; line-height: 1; border-radius: 0.35em; vertical-align: middle; margin-left: 0.5rem\">tag</span>\n",
              "</mark>\n",
              ", who told the \n",
              "<mark class=\"entity\" style=\"background: #ddd; padding: 0.45em 0.6em; margin: 0 0.25em; line-height: 1; border-radius: 0.35em;\">\n",
              "    family\n",
              "    <span style=\"font-size: 0.8em; font-weight: bold; line-height: 1; border-radius: 0.35em; vertical-align: middle; margin-left: 0.5rem\">tag</span>\n",
              "</mark>\n",
              " the next day that Pereira had \n",
              "<mark class=\"entity\" style=\"background: #ddd; padding: 0.45em 0.6em; margin: 0 0.25em; line-height: 1; border-radius: 0.35em;\">\n",
              "    died\n",
              "    <span style=\"font-size: 0.8em; font-weight: bold; line-height: 1; border-radius: 0.35em; vertical-align: middle; margin-left: 0.5rem\">tag</span>\n",
              "</mark>\n",
              " on September 21.The \n",
              "<mark class=\"entity\" style=\"background: #ddd; padding: 0.45em 0.6em; margin: 0 0.25em; line-height: 1; border-radius: 0.35em;\">\n",
              "    police station\n",
              "    <span style=\"font-size: 0.8em; font-weight: bold; line-height: 1; border-radius: 0.35em; vertical-align: middle; margin-left: 0.5rem\">tag</span>\n",
              "</mark>\n",
              "’s records show that he was found unconscious near his \n",
              "<mark class=\"entity\" style=\"background: #ddd; padding: 0.45em 0.6em; margin: 0 0.25em; line-height: 1; border-radius: 0.35em;\">\n",
              "    home\n",
              "    <span style=\"font-size: 0.8em; font-weight: bold; line-height: 1; border-radius: 0.35em; vertical-align: middle; margin-left: 0.5rem\">tag</span>\n",
              "</mark>\n",
              " and declared dead at a \n",
              "<mark class=\"entity\" style=\"background: #ddd; padding: 0.45em 0.6em; margin: 0 0.25em; line-height: 1; border-radius: 0.35em;\">\n",
              "    hospital\n",
              "    <span style=\"font-size: 0.8em; font-weight: bold; line-height: 1; border-radius: 0.35em; vertical-align: middle; margin-left: 0.5rem\">tag</span>\n",
              "</mark>\n",
              " that same day. “They showed his \n",
              "<mark class=\"entity\" style=\"background: #ddd; padding: 0.45em 0.6em; margin: 0 0.25em; line-height: 1; border-radius: 0.35em;\">\n",
              "    photograph\n",
              "    <span style=\"font-size: 0.8em; font-weight: bold; line-height: 1; border-radius: 0.35em; vertical-align: middle; margin-left: 0.5rem\">tag</span>\n",
              "</mark>\n",
              " to us, and told us that they had filed him away as an unidentified person,” said Eureka. “They claimed they didn’t know it was the same person as my \n",
              "<mark class=\"entity\" style=\"background: #ddd; padding: 0.45em 0.6em; margin: 0 0.25em; line-height: 1; border-radius: 0.35em;\">\n",
              "    father\n",
              "    <span style=\"font-size: 0.8em; font-weight: bold; line-height: 1; border-radius: 0.35em; vertical-align: middle; margin-left: 0.5rem\">tag</span>\n",
              "</mark>\n",
              ".” Since Pereira’s body \n",
              "<mark class=\"entity\" style=\"background: #ddd; padding: 0.45em 0.6em; margin: 0 0.25em; line-height: 1; border-radius: 0.35em;\">\n",
              "    lay\n",
              "    <span style=\"font-size: 0.8em; font-weight: bold; line-height: 1; border-radius: 0.35em; vertical-align: middle; margin-left: 0.5rem\">tag</span>\n",
              "</mark>\n",
              " unclaimed for days, the \n",
              "<mark class=\"entity\" style=\"background: #ddd; padding: 0.45em 0.6em; margin: 0 0.25em; line-height: 1; border-radius: 0.35em;\">\n",
              "    police\n",
              "    <span style=\"font-size: 0.8em; font-weight: bold; line-height: 1; border-radius: 0.35em; vertical-align: middle; margin-left: 0.5rem\">tag</span>\n",
              "</mark>\n",
              " cremated him on October 13. “We have asked for his post-mortem examination report,” said the \n",
              "<mark class=\"entity\" style=\"background: #ddd; padding: 0.45em 0.6em; margin: 0 0.25em; line-height: 1; border-radius: 0.35em;\">\n",
              "    daughter\n",
              "    <span style=\"font-size: 0.8em; font-weight: bold; line-height: 1; border-radius: 0.35em; vertical-align: middle; margin-left: 0.5rem\">tag</span>\n",
              "</mark>\n",
              ".The \n",
              "<mark class=\"entity\" style=\"background: #ddd; padding: 0.45em 0.6em; margin: 0 0.25em; line-height: 1; border-radius: 0.35em;\">\n",
              "    police\n",
              "    <span style=\"font-size: 0.8em; font-weight: bold; line-height: 1; border-radius: 0.35em; vertical-align: middle; margin-left: 0.5rem\">tag</span>\n",
              "</mark>\n",
              "’s biggest lapse was their failure to check their records of unidentified persons when the \n",
              "<mark class=\"entity\" style=\"background: #ddd; padding: 0.45em 0.6em; margin: 0 0.25em; line-height: 1; border-radius: 0.35em;\">\n",
              "    family\n",
              "    <span style=\"font-size: 0.8em; font-weight: bold; line-height: 1; border-radius: 0.35em; vertical-align: middle; margin-left: 0.5rem\">tag</span>\n",
              "</mark>\n",
              " approached them to file a complaint. “Instead of checking the files at his own \n",
              "<mark class=\"entity\" style=\"background: #ddd; padding: 0.45em 0.6em; margin: 0 0.25em; line-height: 1; border-radius: 0.35em;\">\n",
              "    police station\n",
              "    <span style=\"font-size: 0.8em; font-weight: bold; line-height: 1; border-radius: 0.35em; vertical-align: middle; margin-left: 0.5rem\">tag</span>\n",
              "</mark>\n",
              ", the \n",
              "<mark class=\"entity\" style=\"background: #ddd; padding: 0.45em 0.6em; margin: 0 0.25em; line-height: 1; border-radius: 0.35em;\">\n",
              "    officer\n",
              "    <span style=\"font-size: 0.8em; font-weight: bold; line-height: 1; border-radius: 0.35em; vertical-align: middle; margin-left: 0.5rem\">tag</span>\n",
              "</mark>\n",
              " sent us on a wild goose \n",
              "<mark class=\"entity\" style=\"background: #ddd; padding: 0.45em 0.6em; margin: 0 0.25em; line-height: 1; border-radius: 0.35em;\">\n",
              "    chase\n",
              "    <span style=\"font-size: 0.8em; font-weight: bold; line-height: 1; border-radius: 0.35em; vertical-align: middle; margin-left: 0.5rem\">tag</span>\n",
              "</mark>\n",
              ". The \n",
              "<mark class=\"entity\" style=\"background: #ddd; padding: 0.45em 0.6em; margin: 0 0.25em; line-height: 1; border-radius: 0.35em;\">\n",
              "    police\n",
              "    <span style=\"font-size: 0.8em; font-weight: bold; line-height: 1; border-radius: 0.35em; vertical-align: middle; margin-left: 0.5rem\">tag</span>\n",
              "</mark>\n",
              " have apologised but how does that \n",
              "<mark class=\"entity\" style=\"background: #ddd; padding: 0.45em 0.6em; margin: 0 0.25em; line-height: 1; border-radius: 0.35em;\">\n",
              "    make\n",
              "    <span style=\"font-size: 0.8em; font-weight: bold; line-height: 1; border-radius: 0.35em; vertical-align: middle; margin-left: 0.5rem\">tag</span>\n",
              "</mark>\n",
              " things right? We could have given my \n",
              "<mark class=\"entity\" style=\"background: #ddd; padding: 0.45em 0.6em; margin: 0 0.25em; line-height: 1; border-radius: 0.35em;\">\n",
              "    father\n",
              "    <span style=\"font-size: 0.8em; font-weight: bold; line-height: 1; border-radius: 0.35em; vertical-align: middle; margin-left: 0.5rem\">tag</span>\n",
              "</mark>\n",
              " a burial had we got his body,” said an infuriated Eureka.Sanjay Hajare, senior \n",
              "<mark class=\"entity\" style=\"background: #ddd; padding: 0.45em 0.6em; margin: 0 0.25em; line-height: 1; border-radius: 0.35em;\">\n",
              "    inspector\n",
              "    <span style=\"font-size: 0.8em; font-weight: bold; line-height: 1; border-radius: 0.35em; vertical-align: middle; margin-left: 0.5rem\">tag</span>\n",
              "</mark>\n",
              " of, said action will be taken \n",
              "<mark class=\"entity\" style=\"background: #ddd; padding: 0.45em 0.6em; margin: 0 0.25em; line-height: 1; border-radius: 0.35em;\">\n",
              "    against\n",
              "    <span style=\"font-size: 0.8em; font-weight: bold; line-height: 1; border-radius: 0.35em; vertical-align: middle; margin-left: 0.5rem\">tag</span>\n",
              "</mark>\n",
              " Shinde if he is found out to have been negligent. But, he \n",
              "<mark class=\"entity\" style=\"background: #ddd; padding: 0.45em 0.6em; margin: 0 0.25em; line-height: 1; border-radius: 0.35em;\">\n",
              "    lay\n",
              "    <span style=\"font-size: 0.8em; font-weight: bold; line-height: 1; border-radius: 0.35em; vertical-align: middle; margin-left: 0.5rem\">tag</span>\n",
              "</mark>\n",
              " some of the blame with the \n",
              "<mark class=\"entity\" style=\"background: #ddd; padding: 0.45em 0.6em; margin: 0 0.25em; line-height: 1; border-radius: 0.35em;\">\n",
              "    family\n",
              "    <span style=\"font-size: 0.8em; font-weight: bold; line-height: 1; border-radius: 0.35em; vertical-align: middle; margin-left: 0.5rem\">tag</span>\n",
              "</mark>\n",
              " as well. “They came very late to lodge the complaint and gave us an old \n",
              "<mark class=\"entity\" style=\"background: #ddd; padding: 0.45em 0.6em; margin: 0 0.25em; line-height: 1; border-radius: 0.35em;\">\n",
              "    photograph\n",
              "    <span style=\"font-size: 0.8em; font-weight: bold; line-height: 1; border-radius: 0.35em; vertical-align: middle; margin-left: 0.5rem\">tag</span>\n",
              "</mark>\n",
              " which \n",
              "<mark class=\"entity\" style=\"background: #ddd; padding: 0.45em 0.6em; margin: 0 0.25em; line-height: 1; border-radius: 0.35em;\">\n",
              "    bore\n",
              "    <span style=\"font-size: 0.8em; font-weight: bold; line-height: 1; border-radius: 0.35em; vertical-align: middle; margin-left: 0.5rem\">tag</span>\n",
              "</mark>\n",
              " no resemblance with the body that was found. They also told us that Pereira had a habit of staying away from \n",
              "<mark class=\"entity\" style=\"background: #ddd; padding: 0.45em 0.6em; margin: 0 0.25em; line-height: 1; border-radius: 0.35em;\">\n",
              "    home\n",
              "    <span style=\"font-size: 0.8em; font-weight: bold; line-height: 1; border-radius: 0.35em; vertical-align: middle; margin-left: 0.5rem\">tag</span>\n",
              "</mark>\n",
              " often. It’s possible that at that point, it was assumed that he would eventually return,” said Hajare.Abraham Mathai, former vice chairman of the, said this case exemplifies the policing system’s shortcomings. “Even this \n",
              "<mark class=\"entity\" style=\"background: #ddd; padding: 0.45em 0.6em; margin: 0 0.25em; line-height: 1; border-radius: 0.35em;\">\n",
              "    revelation\n",
              "    <span style=\"font-size: 0.8em; font-weight: bold; line-height: 1; border-radius: 0.35em; vertical-align: middle; margin-left: 0.5rem\">tag</span>\n",
              "</mark>\n",
              " that Pereira had been quietly cremated wouldn’t have emerged had the \n",
              "<mark class=\"entity\" style=\"background: #ddd; padding: 0.45em 0.6em; margin: 0 0.25em; line-height: 1; border-radius: 0.35em;\">\n",
              "    family\n",
              "    <span style=\"font-size: 0.8em; font-weight: bold; line-height: 1; border-radius: 0.35em; vertical-align: middle; margin-left: 0.5rem\">tag</span>\n",
              "</mark>\n",
              " not \n",
              "<mark class=\"entity\" style=\"background: #ddd; padding: 0.45em 0.6em; margin: 0 0.25em; line-height: 1; border-radius: 0.35em;\">\n",
              "    met\n",
              "    <span style=\"font-size: 0.8em; font-weight: bold; line-height: 1; border-radius: 0.35em; vertical-align: middle; margin-left: 0.5rem\">tag</span>\n",
              "</mark>\n",
              " the Commissioner Sadanand Date. The case would have been relegated to the files of unsolved missing persons.”</br></div></span>"
            ],
            "text/plain": [
              "<IPython.core.display.HTML object>"
            ]
          },
          "metadata": {
            "tags": []
          }
        }
      ]
    },
    {
      "cell_type": "code",
      "metadata": {
        "id": "bqq8U3kBbCfd"
      },
      "source": [
        ""
      ],
      "execution_count": null,
      "outputs": []
    }
  ]
}